{
 "cells": [
  {
   "cell_type": "code",
   "execution_count": 3,
   "id": "a55f6647",
   "metadata": {},
   "outputs": [],
   "source": [
    "# with python:\n",
    "# our reserved word is open\n",
    "# order here:\n",
    "# open(my file location, what I want to do with it)\n",
    "f = open('notes.md', 'r')"
   ]
  },
  {
   "cell_type": "code",
   "execution_count": 5,
   "id": "37472434",
   "metadata": {},
   "outputs": [
    {
     "data": {
      "text/plain": [
       "'# my_notes\\nCodeup Exercise (\"Your Notes\")\\n\\n- I learned that github is essentially a database that logs different versions of code\\n- Github is vital in maintaining progress and backups of projects\\n- Github is vital to creating a profile for others to see specifically for pursuing tech work\\n- The process to github is creating a repository, conducting your work, adding your work, commiting your work, then finally pushing your work...  Respectively, creation via Github, conducting work via preferred methods and programs, adding via terminal <git add [insert argument]>, commiting via terminal <git commit -m \"Comment pertaining to work being added, commited, pushed\">, pushing via terminal <git push>\\n\\n'"
      ]
     },
     "execution_count": 5,
     "metadata": {},
     "output_type": "execute_result"
    }
   ],
   "source": [
    "f.read()"
   ]
  },
  {
   "cell_type": "code",
   "execution_count": 8,
   "id": "bd1f424e",
   "metadata": {},
   "outputs": [],
   "source": [
    "# If I pass read on the file, then I can get the content inside.\n",
    "contents = f.read()"
   ]
  },
  {
   "cell_type": "code",
   "execution_count": 9,
   "id": "1d70f2df",
   "metadata": {},
   "outputs": [
    {
     "data": {
      "text/plain": [
       "['']"
      ]
     },
     "execution_count": 9,
     "metadata": {},
     "output_type": "execute_result"
    }
   ],
   "source": [
    "contents.split('\\n')"
   ]
  },
  {
   "cell_type": "code",
   "execution_count": null,
   "id": "a28c5825",
   "metadata": {},
   "outputs": [],
   "source": [
    "# generally speaking,\n",
    "# once a file is opened,\n",
    "# we will want to close it\n",
    "f.close()"
   ]
  },
  {
   "cell_type": "code",
   "execution_count": 12,
   "id": "70effa65",
   "metadata": {},
   "outputs": [],
   "source": [
    "# easier way to do that:\n",
    "# use a with statement\n",
    "with open('notes.md', 'r') as f:\n",
    "    my_content = f.readlines()"
   ]
  },
  {
   "cell_type": "code",
   "execution_count": 13,
   "id": "5f9a630e",
   "metadata": {},
   "outputs": [
    {
     "data": {
      "text/plain": [
       "['# my_notes\\n',\n",
       " 'Codeup Exercise (\"Your Notes\")\\n',\n",
       " '\\n',\n",
       " '- I learned that github is essentially a database that logs different versions of code\\n',\n",
       " '- Github is vital in maintaining progress and backups of projects\\n',\n",
       " '- Github is vital to creating a profile for others to see specifically for pursuing tech work\\n',\n",
       " '- The process to github is creating a repository, conducting your work, adding your work, commiting your work, then finally pushing your work...  Respectively, creation via Github, conducting work via preferred methods and programs, adding via terminal <git add [insert argument]>, commiting via terminal <git commit -m \"Comment pertaining to work being added, commited, pushed\">, pushing via terminal <git push>\\n',\n",
       " '\\n']"
      ]
     },
     "execution_count": 13,
     "metadata": {},
     "output_type": "execute_result"
    }
   ],
   "source": [
    "my_content"
   ]
  },
  {
   "cell_type": "code",
   "execution_count": 14,
   "id": "0fc26d6f",
   "metadata": {},
   "outputs": [],
   "source": [
    "# with open ==> file location, interaction\n",
    "with open('notes_test.md', 'w') as f:\n",
    "    f.write('TESTING')"
   ]
  },
  {
   "cell_type": "code",
   "execution_count": 19,
   "id": "a79d2a99",
   "metadata": {},
   "outputs": [
    {
     "ename": "UnsupportedOperation",
     "evalue": "not writable",
     "output_type": "error",
     "traceback": [
      "\u001b[0;31m---------------------------------------------------------------------------\u001b[0m",
      "\u001b[0;31mUnsupportedOperation\u001b[0m                      Traceback (most recent call last)",
      "\u001b[0;32m/var/folders/6x/kctcvd8x6l18t57t92kmqy6w0000gn/T/ipykernel_30205/445766863.py\u001b[0m in \u001b[0;36m<module>\u001b[0;34m\u001b[0m\n\u001b[1;32m      1\u001b[0m \u001b[0;31m# appending information: a-mode\u001b[0m\u001b[0;34m\u001b[0m\u001b[0;34m\u001b[0m\u001b[0m\n\u001b[1;32m      2\u001b[0m \u001b[0;32mwith\u001b[0m \u001b[0mopen\u001b[0m\u001b[0;34m(\u001b[0m\u001b[0;34m'notes_test.md'\u001b[0m\u001b[0;34m)\u001b[0m \u001b[0;32mas\u001b[0m \u001b[0mf\u001b[0m\u001b[0;34m:\u001b[0m\u001b[0;34m\u001b[0m\u001b[0;34m\u001b[0m\u001b[0m\n\u001b[0;32m----> 3\u001b[0;31m     f.writelines(['heres a fun extra line\\n',\n\u001b[0m\u001b[1;32m      4\u001b[0m                  'and another one!\\n'])\n",
      "\u001b[0;31mUnsupportedOperation\u001b[0m: not writable"
     ]
    }
   ],
   "source": [
    "# appending information: a-mode\n",
    "with open('notes_test.md') as f:\n",
    "    f.writelines(['heres a fun extra line\\n',\n",
    "                 'and another one!\\n'])"
   ]
  },
  {
   "cell_type": "code",
   "execution_count": null,
   "id": "c238d6c3",
   "metadata": {},
   "outputs": [],
   "source": [
    "# note: append mode: a will ADD content\n",
    "# write mode w will *overwrite* content"
   ]
  },
  {
   "cell_type": "code",
   "execution_count": null,
   "id": "e238f2af",
   "metadata": {},
   "outputs": [],
   "source": [
    "# welcome to the OS"
   ]
  },
  {
   "cell_type": "code",
   "execution_count": 20,
   "id": "9879e26d",
   "metadata": {},
   "outputs": [],
   "source": [
    "import os"
   ]
  },
  {
   "cell_type": "code",
   "execution_count": 21,
   "id": "73fe6b36",
   "metadata": {},
   "outputs": [
    {
     "name": "stdout",
     "output_type": "stream",
     "text": [
      "yay it exists\n"
     ]
    }
   ],
   "source": [
    "# RELATIVE PATH!  CURRENT WORKING DIRECTORY MATTERS!!!\n",
    "if os.path.exists('notes.md'):\n",
    "    print('yay it exists')\n",
    "    with open('notes.md', 'r') as f:\n",
    "        lines = f.readlines()\n",
    "else:\n",
    "    print('does not exist')\n",
    "    with open('notes.md', 'w') as f:\n",
    "        f.write('brand new file')"
   ]
  },
  {
   "cell_type": "code",
   "execution_count": 24,
   "id": "ed5314f4",
   "metadata": {},
   "outputs": [
    {
     "name": "stdout",
     "output_type": "stream",
     "text": [
      "/Users/manupfool/codeup-data-science/my_notes\n"
     ]
    }
   ],
   "source": [
    "print(os.getcwd())"
   ]
  },
  {
   "cell_type": "code",
   "execution_count": 26,
   "id": "99ad9b57",
   "metadata": {},
   "outputs": [
    {
     "name": "stdout",
     "output_type": "stream",
     "text": [
      "yay it exists\n"
     ]
    }
   ],
   "source": [
    "if os.path.exists('test.txt'):\n",
    "    print('yay it exists')\n",
    "    with open('test.txt', 'r') as f:\n",
    "        lines = f.readlines()\n",
    "else:\n",
    "    print('does not exist')\n",
    "    with open('test.txt', 'w') as f:\n",
    "        f.write('brand new file')"
   ]
  },
  {
   "cell_type": "code",
   "execution_count": 27,
   "id": "fe275600",
   "metadata": {},
   "outputs": [
    {
     "data": {
      "text/plain": [
       "['brand new file']"
      ]
     },
     "execution_count": 27,
     "metadata": {},
     "output_type": "execute_result"
    }
   ],
   "source": [
    "lines"
   ]
  },
  {
   "cell_type": "code",
   "execution_count": 30,
   "id": "c39c1aee",
   "metadata": {},
   "outputs": [],
   "source": [
    "# let's make a csv:\n",
    "with open('baby_csv.csv', 'w') as f:\n",
    "    f.writelines(\n",
    "    ['field_1, field_2, field_3\\n'\n",
    "    '0, 25, ham\\n'\n",
    "    '1, 29, sandwich\\n'])"
   ]
  },
  {
   "cell_type": "code",
   "execution_count": 32,
   "id": "29445bbc",
   "metadata": {},
   "outputs": [],
   "source": [
    "with open('baby_csv.csv', 'r') as f:\n",
    "    my_baby_csv = f.readlines()"
   ]
  },
  {
   "cell_type": "code",
   "execution_count": 33,
   "id": "add5896a",
   "metadata": {},
   "outputs": [
    {
     "data": {
      "text/plain": [
       "['field_1, field_2, field_3\\n', '0, 25, ham\\n', '1, 29, sandwich\\n']"
      ]
     },
     "execution_count": 33,
     "metadata": {},
     "output_type": "execute_result"
    }
   ],
   "source": [
    "my_baby_csv"
   ]
  },
  {
   "cell_type": "code",
   "execution_count": 34,
   "id": "34a716e4",
   "metadata": {},
   "outputs": [],
   "source": [
    "# import csv!\n",
    "import csv"
   ]
  },
  {
   "cell_type": "code",
   "execution_count": 35,
   "id": "f2bdbd51",
   "metadata": {},
   "outputs": [],
   "source": [
    "# DictWriter, DictReader"
   ]
  },
  {
   "cell_type": "code",
   "execution_count": null,
   "id": "dd3fbb72",
   "metadata": {},
   "outputs": [],
   "source": [
    "# csv.Dictwriter needs:\n",
    "# what file its writing to (f)\n",
    "# field names (cols)"
   ]
  },
  {
   "cell_type": "code",
   "execution_count": 36,
   "id": "66dc2b1a",
   "metadata": {},
   "outputs": [],
   "source": [
    "# lets make a receipt\n",
    "# item, category, price\n",
    "# three cols:\n",
    "# item: what thing\n",
    "# category: what type thing\n",
    "# price: da moneys\n",
    "\n",
    "cols = ['item', 'category', 'price']\n",
    "\n",
    "transaction = {\n",
    "    'item' : 'milk',\n",
    "    'category' : 'dairy',\n",
    "    'price' : 100.00\n",
    "}\n",
    "with open('groceries.csv', 'w') as f:\n",
    "    writer = csv.DictWriter(f, fieldnames=cols)\n",
    "    writer.writeheader()\n",
    "    writer.writerow(transaction)"
   ]
  },
  {
   "cell_type": "code",
   "execution_count": 37,
   "id": "faa1149e",
   "metadata": {},
   "outputs": [],
   "source": [
    "# APPEND a new line of information\n",
    "# (so as not to overwrite anything)\n",
    "# 'a' == append\n",
    "with open('groceries.csv', 'a') as f:\n",
    "    writer = csv.DictWriter(f, fieldnames=cols)\n",
    "    writer.writerow(\n",
    "    {\n",
    "        'item' : 'eggs',\n",
    "        'category' : 'dairy',\n",
    "        'price' : 500.00\n",
    "    })"
   ]
  },
  {
   "cell_type": "code",
   "execution_count": 38,
   "id": "7e6c7d0b",
   "metadata": {},
   "outputs": [],
   "source": [
    "# read in a csv:\n",
    "with open('groceries.csv', 'r') as f:\n",
    "    content = csv.DictReader(f, fieldnames = cols)\n",
    "    lines = []\n",
    "    for line in content:\n",
    "        lines.append(line)"
   ]
  },
  {
   "cell_type": "code",
   "execution_count": 39,
   "id": "d7048c37",
   "metadata": {},
   "outputs": [
    {
     "data": {
      "text/plain": [
       "[{'item': 'item', 'category': 'category', 'price': 'price'},\n",
       " {'item': 'milk', 'category': 'dairy', 'price': '100.0'},\n",
       " {'item': 'eggs', 'category': 'dairy', 'price': '500.0'}]"
      ]
     },
     "execution_count": 39,
     "metadata": {},
     "output_type": "execute_result"
    }
   ],
   "source": [
    "lines"
   ]
  },
  {
   "cell_type": "code",
   "execution_count": null,
   "id": "ce8d3366",
   "metadata": {},
   "outputs": [],
   "source": [
    "# exiting a program in python:\n",
    "# call exit()"
   ]
  },
  {
   "cell_type": "code",
   "execution_count": null,
   "id": "b388a33a",
   "metadata": {},
   "outputs": [],
   "source": []
  },
  {
   "cell_type": "code",
   "execution_count": 40,
   "id": "7f4d9691",
   "metadata": {},
   "outputs": [],
   "source": [
    "import time"
   ]
  },
  {
   "cell_type": "code",
   "execution_count": 41,
   "id": "5fff2f93",
   "metadata": {},
   "outputs": [
    {
     "data": {
      "text/plain": [
       "1676308883.805556"
      ]
     },
     "execution_count": 41,
     "metadata": {},
     "output_type": "execute_result"
    }
   ],
   "source": [
    "time.time()"
   ]
  },
  {
   "cell_type": "code",
   "execution_count": null,
   "id": "32aceaaf",
   "metadata": {},
   "outputs": [],
   "source": []
  }
 ],
 "metadata": {
  "kernelspec": {
   "display_name": "Python 3 (ipykernel)",
   "language": "python",
   "name": "python3"
  },
  "language_info": {
   "codemirror_mode": {
    "name": "ipython",
    "version": 3
   },
   "file_extension": ".py",
   "mimetype": "text/x-python",
   "name": "python",
   "nbconvert_exporter": "python",
   "pygments_lexer": "ipython3",
   "version": "3.9.13"
  }
 },
 "nbformat": 4,
 "nbformat_minor": 5
}
